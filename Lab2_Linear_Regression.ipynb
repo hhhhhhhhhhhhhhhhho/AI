{
  "nbformat": 4,
  "nbformat_minor": 0,
  "metadata": {
    "colab": {
      "name": "Lab2 : Linear Regression.ipynb",
      "provenance": [],
      "collapsed_sections": [
        "d73YSGxCwPW0",
        "85sB-cVav53D",
        "04AfychF3B8m",
        "om4gsBrw3XEr",
        "orkb-TBSzYYJ",
        "cS292Onzz-uZ"
      ],
      "authorship_tag": "ABX9TyP1y4moOZ0rhgRDkvdt3ESE",
      "include_colab_link": true
    },
    "kernelspec": {
      "name": "python3",
      "display_name": "Python 3"
    }
  },
  "cells": [
    {
      "cell_type": "markdown",
      "metadata": {
        "id": "view-in-github",
        "colab_type": "text"
      },
      "source": [
        "<a href=\"https://colab.research.google.com/github/hhhhhhhhhhhhhhhhho/AI/blob/master/Lab2_Linear_Regression.ipynb\" target=\"_parent\"><img src=\"https://colab.research.google.com/assets/colab-badge.svg\" alt=\"Open In Colab\"/></a>"
      ]
    },
    {
      "cell_type": "code",
      "metadata": {
        "id": "tzt9KLatvSaK"
      },
      "source": [
        "#Colaboratory ?\n",
        "#환경 맞출 필요 없고, 간편한 공유 때문에 사용하고 있다."
      ],
      "execution_count": 5,
      "outputs": []
    },
    {
      "cell_type": "markdown",
      "metadata": {
        "id": "d73YSGxCwPW0"
      },
      "source": [
        "#Lab 2 : Linear Regression\n",
        "\n",
        "\n",
        "##Theoretical Overview\n",
        "  \n",
        "    \n",
        "  \n",
        "\n",
        "<img src=\"https://miro.medium.com/max/2584/1*Nf2tTTkALYq6RTMQmhjo1A.png\">  \n",
        "    \n",
        "<img src=\"https://t1.daumcdn.net/cfile/tistory/997F2F395BDD010026\">\n",
        "\n",
        "\n"
      ]
    },
    {
      "cell_type": "markdown",
      "metadata": {
        "id": "poMF-remyBVw"
      },
      "source": [
        "**1. H(x) : 주어진 x 값에 대해 에측을 어떻게 할 것인가 ?**  \n",
        "**2. cost(W,b) : H(x) 가 y 를 얼마나 잘 예측하는가 ?**\n"
      ]
    },
    {
      "cell_type": "markdown",
      "metadata": {
        "id": "85sB-cVav53D"
      },
      "source": [
        "#Pytorch 를 사용한다.  \n",
        "##Torch 는 딥러닝/머신러닝 라이브러리.    \n",
        "Python 을 이용하여 해결 할 수 있다."
      ]
    },
    {
      "cell_type": "code",
      "metadata": {
        "id": "FyGfXD8m2Esh"
      },
      "source": [
        "import torch\n",
        "import torch.optim as optim\n"
      ],
      "execution_count": 2,
      "outputs": []
    },
    {
      "cell_type": "code",
      "metadata": {
        "id": "ZRNGIM0G2MFG",
        "outputId": "a9110b5e-f2ab-4da2-cab6-ed6e7cb7a938",
        "colab": {
          "base_uri": "https://localhost:8080/",
          "height": 34
        }
      },
      "source": [
        "#For reproducibility\n",
        "torch.manual_seed(1)"
      ],
      "execution_count": 3,
      "outputs": [
        {
          "output_type": "execute_result",
          "data": {
            "text/plain": [
              "<torch._C.Generator at 0x7f1c135f3738>"
            ]
          },
          "metadata": {
            "tags": []
          },
          "execution_count": 3
        }
      ]
    },
    {
      "cell_type": "code",
      "metadata": {
        "id": "e8acG2K02Yiv"
      },
      "source": [
        "#(x1,y1)=(1,1) , (x2,y2)=(2,2) , (x3,y3)=(3,3)\n",
        "x_train = torch.FloatTensor(([1],[2],[3]))\n",
        "y_train = torch.FloatTensor(([1],[2],[3]))"
      ],
      "execution_count": 4,
      "outputs": []
    },
    {
      "cell_type": "code",
      "metadata": {
        "id": "RvYkMt1T2USy",
        "outputId": "b1583fca-de5b-4467-de67-1cf1653c5765",
        "colab": {
          "base_uri": "https://localhost:8080/",
          "height": 85
        }
      },
      "source": [
        "#x train 의 형태는 3 by 1 이다.\n",
        "print(x_train)\n",
        "print(x_train.shape)"
      ],
      "execution_count": 6,
      "outputs": [
        {
          "output_type": "stream",
          "text": [
            "tensor([[1.],\n",
            "        [2.],\n",
            "        [3.]])\n",
            "torch.Size([3, 1])\n"
          ],
          "name": "stdout"
        }
      ]
    },
    {
      "cell_type": "code",
      "metadata": {
        "id": "PkYIVfeT2u-Y",
        "outputId": "096e4d85-3619-4b49-d613-fd53b2ca00f4",
        "colab": {
          "base_uri": "https://localhost:8080/",
          "height": 85
        }
      },
      "source": [
        "#y train 의 형태는  3 by 1 이다.\n",
        "print(y_train)\n",
        "print(y_train.shape)"
      ],
      "execution_count": 7,
      "outputs": [
        {
          "output_type": "stream",
          "text": [
            "tensor([[1.],\n",
            "        [2.],\n",
            "        [3.]])\n",
            "torch.Size([3, 1])\n"
          ],
          "name": "stdout"
        }
      ]
    },
    {
      "cell_type": "markdown",
      "metadata": {
        "id": "04AfychF3B8m"
      },
      "source": [
        "# Weight Initialization"
      ]
    },
    {
      "cell_type": "code",
      "metadata": {
        "id": "OOVOvAvt3For",
        "outputId": "42278dd0-1141-4909-cce0-2085d0934bf7",
        "colab": {
          "base_uri": "https://localhost:8080/",
          "height": 34
        }
      },
      "source": [
        "W = torch.zeros(1, requires_grad=True)\n",
        "print(W)"
      ],
      "execution_count": 8,
      "outputs": [
        {
          "output_type": "stream",
          "text": [
            "tensor([0.], requires_grad=True)\n"
          ],
          "name": "stdout"
        }
      ]
    },
    {
      "cell_type": "code",
      "metadata": {
        "id": "qDEULGg-3MZ6",
        "outputId": "2f523735-56d9-47fa-fc05-7a96bb1092ac",
        "colab": {
          "base_uri": "https://localhost:8080/",
          "height": 34
        }
      },
      "source": [
        "b = torch.zeros(1, requires_grad=True)\n",
        "print(b)\n",
        "#학습용 변수."
      ],
      "execution_count": 10,
      "outputs": [
        {
          "output_type": "stream",
          "text": [
            "tensor([0.], requires_grad=True)\n"
          ],
          "name": "stdout"
        }
      ]
    },
    {
      "cell_type": "markdown",
      "metadata": {
        "id": "om4gsBrw3XEr"
      },
      "source": [
        "#Hypothesis\n",
        "\n"
      ]
    },
    {
      "cell_type": "markdown",
      "metadata": {
        "id": "Ncc0OTRky4Is"
      },
      "source": [
        "![스크린샷 2020-10-29 오전 12.20.38.png](data:image/png;base64,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)"
      ]
    },
    {
      "cell_type": "code",
      "metadata": {
        "id": "vGMLI_cEyG0M",
        "outputId": "be1a651c-3b60-42d4-e34d-dd48e131af54",
        "colab": {
          "base_uri": "https://localhost:8080/",
          "height": 68
        }
      },
      "source": [
        "hypothesis = x_train * W + b\n",
        "print(hypothesis)\n",
        "#가설의 값 은 현재 0 임."
      ],
      "execution_count": 14,
      "outputs": [
        {
          "output_type": "stream",
          "text": [
            "tensor([[0.],\n",
            "        [0.],\n",
            "        [0.]], grad_fn=<AddBackward0>)\n"
          ],
          "name": "stdout"
        }
      ]
    },
    {
      "cell_type": "markdown",
      "metadata": {
        "id": "orkb-TBSzYYJ"
      },
      "source": [
        "#Cost\n",
        "![스크린샷 2020-10-29 오전 12.22.01.png](data:image/png;base64,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)"
      ]
    },
    {
      "cell_type": "code",
      "metadata": {
        "id": "OwoussbbzbWF",
        "outputId": "e3cb72a9-a646-447a-e0fc-f000d581457f",
        "colab": {
          "base_uri": "https://localhost:8080/",
          "height": 68
        }
      },
      "source": [
        "print(hypothesis)"
      ],
      "execution_count": 17,
      "outputs": [
        {
          "output_type": "stream",
          "text": [
            "tensor([[0.],\n",
            "        [0.],\n",
            "        [0.]], grad_fn=<AddBackward0>)\n"
          ],
          "name": "stdout"
        }
      ]
    },
    {
      "cell_type": "code",
      "metadata": {
        "id": "J4X9e-JlzfZT",
        "outputId": "22b89fc4-a7af-4c14-9816-5f21055043f3",
        "colab": {
          "base_uri": "https://localhost:8080/",
          "height": 68
        }
      },
      "source": [
        "print(y_train)"
      ],
      "execution_count": 18,
      "outputs": [
        {
          "output_type": "stream",
          "text": [
            "tensor([[1.],\n",
            "        [2.],\n",
            "        [3.]])\n"
          ],
          "name": "stdout"
        }
      ]
    },
    {
      "cell_type": "code",
      "metadata": {
        "id": "zkYuQPcLzhv8",
        "outputId": "a04e9ad0-59ce-40b7-a2a3-a86539352070",
        "colab": {
          "base_uri": "https://localhost:8080/",
          "height": 68
        }
      },
      "source": [
        "print(hypothesis - y_train)"
      ],
      "execution_count": 19,
      "outputs": [
        {
          "output_type": "stream",
          "text": [
            "tensor([[-1.],\n",
            "        [-2.],\n",
            "        [-3.]], grad_fn=<SubBackward0>)\n"
          ],
          "name": "stdout"
        }
      ]
    },
    {
      "cell_type": "code",
      "metadata": {
        "id": "Jv01BKC1znYB",
        "outputId": "964c2189-cc4a-40b0-c127-d793c4087f8d",
        "colab": {
          "base_uri": "https://localhost:8080/",
          "height": 68
        }
      },
      "source": [
        "print((hypothesis - y_train)**2 )"
      ],
      "execution_count": 20,
      "outputs": [
        {
          "output_type": "stream",
          "text": [
            "tensor([[1.],\n",
            "        [4.],\n",
            "        [9.]], grad_fn=<PowBackward0>)\n"
          ],
          "name": "stdout"
        }
      ]
    },
    {
      "cell_type": "code",
      "metadata": {
        "id": "dPIfylTpzrti",
        "outputId": "429298e8-9b2c-48a9-9a4e-afda8d2b15cf",
        "colab": {
          "base_uri": "https://localhost:8080/",
          "height": 34
        }
      },
      "source": [
        "#평균값을 알아봤음.\n",
        "cost = torch.mean((hypothesis - y_train)**2)\n",
        "print(cost)"
      ],
      "execution_count": 21,
      "outputs": [
        {
          "output_type": "stream",
          "text": [
            "tensor(4.6667, grad_fn=<MeanBackward0>)\n"
          ],
          "name": "stdout"
        }
      ]
    },
    {
      "cell_type": "markdown",
      "metadata": {
        "id": "cS292Onzz-uZ"
      },
      "source": [
        "#Gradient Descent"
      ]
    },
    {
      "cell_type": "code",
      "metadata": {
        "id": "AyFZ_uxo0CDT"
      },
      "source": [
        "# learning rate => lr = 0.01\n",
        "# W : = w-alpha*d/dw*cost(w)\n",
        "optimizer = optim.SGD([W,b], lr=0.01)"
      ],
      "execution_count": 23,
      "outputs": []
    },
    {
      "cell_type": "code",
      "metadata": {
        "id": "liGxaOx30_3K"
      },
      "source": [
        "#옵티마이저 초기화\n",
        "optimizer.zero_grad()\n",
        "\n",
        "#cost 계산 => 미분값 계산\n",
        "cost.backward()\n",
        "\n",
        "#옵티마이저 갱신\n",
        "optimizer.step()"
      ],
      "execution_count": 28,
      "outputs": []
    },
    {
      "cell_type": "code",
      "metadata": {
        "id": "rhAo9nov0Gbv",
        "outputId": "3796f4db-5b17-447e-c2c6-5cf821ceb406",
        "colab": {
          "base_uri": "https://localhost:8080/",
          "height": 51
        }
      },
      "source": [
        "print(W)\n",
        "print(b)"
      ],
      "execution_count": 30,
      "outputs": [
        {
          "output_type": "stream",
          "text": [
            "tensor([0.0933], requires_grad=True)\n",
            "tensor([0.0400], requires_grad=True)\n"
          ],
          "name": "stdout"
        }
      ]
    },
    {
      "cell_type": "markdown",
      "metadata": {
        "id": "OByRRSo-2Xis"
      },
      "source": [
        "위에서 W 와 b 는 각각 0 이었지만\n",
        "W 가 갱신된 것을 볼 수 있다."
      ]
    },
    {
      "cell_type": "code",
      "metadata": {
        "id": "UGQ5swv42T1Z",
        "outputId": "9218edf6-0bc8-44dc-8a7f-11544053fafc",
        "colab": {
          "base_uri": "https://localhost:8080/",
          "height": 68
        }
      },
      "source": [
        "hypothesis = x_train * W + b\n",
        "print(hypothesis)"
      ],
      "execution_count": 33,
      "outputs": [
        {
          "output_type": "stream",
          "text": [
            "tensor([[0.1333],\n",
            "        [0.2267],\n",
            "        [0.3200]], grad_fn=<AddBackward0>)\n"
          ],
          "name": "stdout"
        }
      ]
    },
    {
      "cell_type": "code",
      "metadata": {
        "id": "z3MvFOhz2kvL",
        "outputId": "6c3ddda0-ee4d-4950-c523-23bf7a3a9ee5",
        "colab": {
          "base_uri": "https://localhost:8080/",
          "height": 34
        }
      },
      "source": [
        "cost = torch.mean((hypothesis - y_train)**2)\n",
        "print(cost)\n",
        "\n",
        "#이렇게 cost 가 반복적으로 작아지고, cost 가 더 이상 작아지지 않을 때 까지 반복한다면 학습이 완료되것으로 생각할 수 있다."
      ],
      "execution_count": 37,
      "outputs": [
        {
          "output_type": "stream",
          "text": [
            "tensor(3.6927, grad_fn=<MeanBackward0>)\n"
          ],
          "name": "stdout"
        }
      ]
    },
    {
      "cell_type": "markdown",
      "metadata": {
        "id": "l0JwoOtR23XZ"
      },
      "source": [
        "#Traning with Full Code\n",
        "## In reality , we will be traning on the dataset for multiple epochs. This can be done simply with loops\n",
        "### 이 모델은 데이터 셋에서 학습될 수 있는데 , 간단히 루프를 돌면서 해결 할 수 있다.\n"
      ]
    },
    {
      "cell_type": "code",
      "metadata": {
        "id": "29b9_8B83D-4",
        "outputId": "f392f131-abad-45f9-e2f3-568db49ca0f5",
        "colab": {
          "base_uri": "https://localhost:8080/",
          "height": 204
        }
      },
      "source": [
        "#데이터\n",
        "x_train = torch.FloatTensor([[1],[2],[3]])\n",
        "y_train = torch.FloatTensor([[1],[2],[3]])\n",
        "\n",
        "#모델 초기화\n",
        "W = torch.zeros(1, requires_grad=True)  # True 중요함 !\n",
        "b = torch.zeros(1, requires_grad=True)\n",
        "\n",
        "#Optimizer 설정\n",
        "optimizer = optim.SGD([W,b], lr = 0.01) \n",
        "#Gradient Descent 사용 할 건데, SGD 알고리즘을 이용해서 ! 그리고 그 알고리즘은 W 와 b 를 구해주면 된다!\n",
        "#근데 Leaning Rate 는 0.01 이다.\n",
        "\n",
        "nb_epochs = 1000\n",
        "\n",
        "for epoch in range(nb_epochs + 1):\n",
        "    #H(x) 계산\n",
        "    hypothesis = x_train *W + b\n",
        "\n",
        "    #cost 계산\n",
        "    cost = torch.mean((hypothesis - y_train) ** 2)\n",
        "\n",
        "\n",
        "    #cost 로 H(x) 개선\n",
        "    optimizer.zero_grad()\n",
        "    cost.backward()\n",
        "    optimizer.step()\n",
        "\n",
        "    #100번마다 로그 출력\n",
        "    if epoch % 100 == 0:\n",
        "        print('Epoch {:4d}/{} W: {:.3f}, b: {:.3f} cost : {:.6f}'.format(\n",
        "            epoch, nb_epochs, W.item(), b.item(), cost.item()\n",
        "        ))\n",
        "\n",
        "    "
      ],
      "execution_count": 43,
      "outputs": [
        {
          "output_type": "stream",
          "text": [
            "Epoch    0/1000 W: 0.093, b: 0.040 cost : 4.666667\n",
            "Epoch  100/1000 W: 0.873, b: 0.289 cost : 0.012043\n",
            "Epoch  200/1000 W: 0.900, b: 0.227 cost : 0.007442\n",
            "Epoch  300/1000 W: 0.921, b: 0.179 cost : 0.004598\n",
            "Epoch  400/1000 W: 0.938, b: 0.140 cost : 0.002842\n",
            "Epoch  500/1000 W: 0.951, b: 0.110 cost : 0.001756\n",
            "Epoch  600/1000 W: 0.962, b: 0.087 cost : 0.001085\n",
            "Epoch  700/1000 W: 0.970, b: 0.068 cost : 0.000670\n",
            "Epoch  800/1000 W: 0.976, b: 0.054 cost : 0.000414\n",
            "Epoch  900/1000 W: 0.981, b: 0.042 cost : 0.000256\n",
            "Epoch 1000/1000 W: 0.985, b: 0.033 cost : 0.000158\n"
          ],
          "name": "stdout"
        }
      ]
    },
    {
      "cell_type": "markdown",
      "metadata": {
        "id": "KKdgAdJt5Q95"
      },
      "source": [
        "결과를 보면 W 가 1 에 가까워지고 있는 것을 볼 수 있다."
      ]
    },
    {
      "cell_type": "code",
      "metadata": {
        "id": "SuZl7-wX5cOK"
      },
      "source": [
        "#Example.\n",
        "#인공지능 수업을 7시간 공부했을 때 예측 시험 성적은 ?\n",
        "#H(x) = Wx + b\n",
        "#가설설정 => 예측하고자 하는 값 => 시험성적 => 1 * 7 + b ( 0.033)\n",
        "#여기서 데이터는 시험성적고 관련 된 데이터가 아니기 때문에 , 다소 맞지 않는 정보가 나타 날 것이다.\n",
        "\n",
        "#데이터의 유형 ?"
      ],
      "execution_count": null,
      "outputs": []
    },
    {
      "cell_type": "markdown",
      "metadata": {
        "id": "v5NLlcZe55dH"
      },
      "source": [
        "#Example.\n",
        "인공지능 수업을 7시간 공부했을 때 예측 시험 성적은 ?  \n",
        "H(x) = Wx + b  \n",
        "가설설정 => 예측하고자 하는 값 => 시험성적 => 1 * 7 + b ( 0.033)  \n",
        "여기서 데이터는 시험성적고 관련 된 데이터가 아니기 때문에 , 다소 맞지 않는 정보가 나타 날 것이다.\n",
        "\n",
        "##데이터의 유형 ?\n",
        "![스크린샷 2020-10-29 오전 12.50.41.png](data:image/png;base64,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)"
      ]
    }
  ]
}