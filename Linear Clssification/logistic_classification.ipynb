{
  "nbformat": 4,
  "nbformat_minor": 0,
  "metadata": {
    "colab": {
      "name": "logistic_classification_예제1.ipynb의 사본",
      "provenance": [],
      "include_colab_link": true
    },
    "kernelspec": {
      "name": "python3",
      "display_name": "Python 3"
    }
  },
  "cells": [
    {
      "cell_type": "markdown",
      "metadata": {
        "id": "view-in-github",
        "colab_type": "text"
      },
      "source": [
        "<a href=\"https://colab.research.google.com/github/hhhhhhhhhhhhhhhhho/AI/blob/master/Linear%20Clssification/logistic_classification.ipynb\" target=\"_parent\"><img src=\"https://colab.research.google.com/assets/colab-badge.svg\" alt=\"Open In Colab\"/></a>"
      ]
    },
    {
      "cell_type": "markdown",
      "metadata": {
        "id": "M28HiXfUvEFs"
      },
      "source": [
        "## Reminder: Logistic Regression"
      ]
    },
    {
      "cell_type": "markdown",
      "metadata": {
        "id": "181-r5zpvQTJ"
      },
      "source": [
        "### Hypothesis\n",
        "$$ H(X) = \\frac{1}{1+e^{-W^T X}} $$"
      ]
    },
    {
      "cell_type": "markdown",
      "metadata": {
        "id": "HTYoxR2vvEFu"
      },
      "source": [
        "### Cost"
      ]
    },
    {
      "cell_type": "markdown",
      "metadata": {
        "id": "Ct6rGwEZvjFm"
      },
      "source": [
        "$$ cost(W) = -\\frac{1}{m} \\sum y \\log\\left(H(x)\\right) + (1-y) \\left( \\log(1-H(x) \\right) $$"
      ]
    },
    {
      "cell_type": "markdown",
      "metadata": {
        "id": "xEhCAEUKvm0w"
      },
      "source": [
        " - If $y \\simeq H(x)$, cost is near 0.\n",
        " - If $y \\neq H(x)$, cost is high."
      ]
    },
    {
      "cell_type": "markdown",
      "metadata": {
        "id": "blnYJnp6vsyD"
      },
      "source": [
        "### Weight Update via Gradient Descent"
      ]
    },
    {
      "cell_type": "markdown",
      "metadata": {
        "id": "o7JjhieWvumV"
      },
      "source": [
        "$$ W := W - \\alpha \\frac{\\partial}{\\partial W} cost(W) $$"
      ]
    },
    {
      "cell_type": "markdown",
      "metadata": {
        "id": "LtRH_7H7vy_R"
      },
      "source": [
        " - $\\alpha$: Learning rate\n",
        "\n",
        "\n",
        "\n",
        "---\n",
        "\n"
      ]
    },
    {
      "cell_type": "markdown",
      "metadata": {
        "id": "wRIyNbAIrz4q"
      },
      "source": [
        "## 데이터 로드"
      ]
    },
    {
      "cell_type": "code",
      "metadata": {
        "id": "H_EjH3ZIqw5r",
        "outputId": "9e76f84b-574f-4d87-9235-a23e94d5cbe9",
        "colab": {
          "base_uri": "https://localhost:8080/",
          "height": 170
        }
      },
      "source": [
        "# pytorch\n",
        "import torch\n",
        "# 최적화 알고리즘 : SGD \n",
        "import torch.optim as optim\n",
        "\n",
        "\n",
        "# For reproducibility\n",
        "torch.manual_seed(1)\n",
        "\n",
        "# 임의 데이터 생성\n",
        "x_data = [[1, 2], [2, 3], [3, 1], [4, 3], [5, 3], [6, 2]]\n",
        "y_data = [[0], [0], [0], [1], [1], [1]]\n",
        "\n",
        "\n",
        "x_train = torch.FloatTensor(x_data)\n",
        "y_train = torch.FloatTensor(y_data)\n",
        "\n",
        "print(x_data)\n",
        "print(x_train)\n",
        "\n",
        "print(x_train.shape)\n",
        "print(y_train.shape)\n",
        "\n"
      ],
      "execution_count": null,
      "outputs": [
        {
          "output_type": "stream",
          "text": [
            "[[1, 2], [2, 3], [3, 1], [4, 3], [5, 3], [6, 2]]\n",
            "tensor([[1., 2.],\n",
            "        [2., 3.],\n",
            "        [3., 1.],\n",
            "        [4., 3.],\n",
            "        [5., 3.],\n",
            "        [6., 2.]])\n",
            "torch.Size([6, 2])\n",
            "torch.Size([6, 1])\n"
          ],
          "name": "stdout"
        }
      ]
    },
    {
      "cell_type": "markdown",
      "metadata": {
        "id": "8FH_CGo4rw5r"
      },
      "source": [
        "## 모델 학습"
      ]
    },
    {
      "cell_type": "code",
      "metadata": {
        "id": "c8R8WMJiYbTj",
        "outputId": "0fe3464a-699d-4bf4-c62b-99778d852349",
        "colab": {
          "base_uri": "https://localhost:8080/",
          "height": 51
        }
      },
      "source": [
        "W = torch.ones((2, 1), requires_grad=True)\n",
        "\n",
        "print(W)"
      ],
      "execution_count": null,
      "outputs": [
        {
          "output_type": "stream",
          "text": [
            "tensor([[1.],\n",
            "        [1.]], requires_grad=True)\n"
          ],
          "name": "stdout"
        }
      ]
    },
    {
      "cell_type": "code",
      "metadata": {
        "id": "Ni7cMG2FrEa8",
        "outputId": "ee7a1961-7995-44fa-ec13-4cc530282a1d",
        "colab": {
          "base_uri": "https://localhost:8080/",
          "height": 204
        }
      },
      "source": [
        "\n",
        "\n",
        "# 모델 초기화\n",
        "# 입력데이터 (x) ==> 2\n",
        "# 출력 (Y) ==> 0 / 1\n",
        "W = torch.zeros((2, 1), requires_grad=True)\n",
        "b = torch.zeros(1, requires_grad=True)\n",
        "\n",
        "# optimizer 설정\n",
        "optimizer = optim.SGD([W, b], lr=1)\n",
        "\n",
        "nb_epochs = 1000\n",
        "for epoch in range(nb_epochs + 1):\n",
        "\n",
        "    # Cost 계산\n",
        "    hypothesis = torch.sigmoid(x_train.matmul(W) + b) # or .mm or @\n",
        "    cost = -(y_train * torch.log(hypothesis) + \n",
        "             (1 - y_train) * torch.log(1 - hypothesis)).mean()\n",
        "\n",
        "    # cost로 H(x) 개선\n",
        "    optimizer.zero_grad()\n",
        "    cost.backward()\n",
        "    optimizer.step()\n",
        "\n",
        "    # 100번마다 로그 출력\n",
        "    if epoch % 100 == 0:\n",
        "        print('Epoch {:4d}/{} Cost: {:.6f}'.format(\n",
        "            epoch, nb_epochs, cost.item()\n",
        "        ))\n"
      ],
      "execution_count": null,
      "outputs": [
        {
          "output_type": "stream",
          "text": [
            "Epoch    0/1000 Cost: 0.693147\n",
            "Epoch  100/1000 Cost: 0.134722\n",
            "Epoch  200/1000 Cost: 0.080643\n",
            "Epoch  300/1000 Cost: 0.057900\n",
            "Epoch  400/1000 Cost: 0.045300\n",
            "Epoch  500/1000 Cost: 0.037261\n",
            "Epoch  600/1000 Cost: 0.031673\n",
            "Epoch  700/1000 Cost: 0.027556\n",
            "Epoch  800/1000 Cost: 0.024394\n",
            "Epoch  900/1000 Cost: 0.021888\n",
            "Epoch 1000/1000 Cost: 0.019852\n"
          ],
          "name": "stdout"
        }
      ]
    },
    {
      "cell_type": "markdown",
      "metadata": {
        "id": "wbQZEqtbwBf9"
      },
      "source": [
        "## 데이터 평가"
      ]
    },
    {
      "cell_type": "code",
      "metadata": {
        "id": "UfzjjvUiwBwi",
        "outputId": "851ed64a-d554-48c6-986c-a3e8f6f170d2",
        "colab": {
          "base_uri": "https://localhost:8080/",
          "height": 119
        }
      },
      "source": [
        "hypothesis = torch.sigmoid(x_train.matmul(W) + b)\n",
        "#print(hypothesis[:5])\n",
        "\n",
        "prediction = hypothesis >= torch.FloatTensor([0.5])\n",
        "#print(prediction[:5])\n",
        "\n",
        "#print(prediction[:5])\n",
        "#print(y_train[:5])\n",
        "\n",
        "correct_prediction = prediction.float() == y_train\n",
        "print(correct_prediction[:5])\n",
        "\n",
        "accuracy = correct_prediction.sum().item() / len(correct_prediction)\n",
        "print('The model has an accuracy of {:2.2f}% for the training set.'.format(accuracy * 100))"
      ],
      "execution_count": null,
      "outputs": [
        {
          "output_type": "stream",
          "text": [
            "tensor([[True],\n",
            "        [True],\n",
            "        [True],\n",
            "        [True],\n",
            "        [True]])\n",
            "The model has an accuracy of 100.00% for the training set.\n"
          ],
          "name": "stdout"
        }
      ]
    },
    {
      "cell_type": "code",
      "metadata": {
        "id": "R7zABKSpwRXW",
        "outputId": "f8b72a91-b9d9-4539-9c40-521358969ca6",
        "colab": {
          "base_uri": "https://localhost:8080/",
          "height": 34
        }
      },
      "source": [
        "XX = [[100, 5]]\n",
        "xx = torch.FloatTensor(XX);\n",
        "hypothesis = torch.sigmoid(xx.matmul(W) + b)\n",
        "prediction = hypothesis >= torch.FloatTensor([0.5])\n",
        "print(prediction)\n",
        "\n",
        "\n"
      ],
      "execution_count": null,
      "outputs": [
        {
          "output_type": "stream",
          "text": [
            "tensor([[True]])\n"
          ],
          "name": "stdout"
        }
      ]
    },
    {
      "cell_type": "code",
      "metadata": {
        "id": "hTtsiNNqaJN7"
      },
      "source": [
        ""
      ],
      "execution_count": null,
      "outputs": []
    }
  ]
}